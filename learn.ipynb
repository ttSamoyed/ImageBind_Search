{
 "cells": [
  {
   "cell_type": "markdown",
   "metadata": {},
   "source": [
    "### 什么是faiss\n",
    "* Facebook的开源的相似性搜索库\n",
    "* 为稠密向量提供高效的 **相似性检索**\n",
    "\n",
    "\n",
    "### 为什么faiss\n",
    "* 新闻资讯：基于内容的相似新闻召回\n",
    "文章->向量（word2vec bert） 提前把所有数据向量化后存储到faiss，建立相关索引\n",
    "* 智能客服领域：基于文本语义FAQ的智能问答系统\n",
    "<问题，答案>转换成embedding 存储到faiss中\n",
    "query->word2vector->faiss->search->answer\n",
    "* 搜索引擎：以图搜图功能\n",
    "\n"
   ]
  },
  {
   "cell_type": "markdown",
   "metadata": {},
   "source": [
    "### 安装faiss并查看版本信息\n",
    "pip install faiss-cpu"
   ]
  },
  {
   "cell_type": "code",
   "execution_count": 2,
   "metadata": {},
   "outputs": [
    {
     "name": "stdout",
     "output_type": "stream",
     "text": [
      "1.7.3\n"
     ]
    }
   ],
   "source": [
    "import faiss\n",
    "print(faiss.__version__)"
   ]
  },
  {
   "cell_type": "code",
   "execution_count": null,
   "metadata": {},
   "outputs": [],
   "source": [
    "import numpy as np\n",
    "d = 512\n",
    "n_data = 2000\n",
    "np.random.seed(0)\n",
    "data = []\n",
    "mu = 3\n",
    "sigma = 0.1\n",
    "for i in range(n_data):\n",
    "    x = np.random.normal(mu, sigma, d)\n",
    "    data.append(x)"
   ]
  },
  {
   "cell_type": "markdown",
   "metadata": {},
   "source": []
  }
 ],
 "metadata": {
  "kernelspec": {
   "display_name": "base",
   "language": "python",
   "name": "python3"
  },
  "language_info": {
   "codemirror_mode": {
    "name": "ipython",
    "version": 3
   },
   "file_extension": ".py",
   "mimetype": "text/x-python",
   "name": "python",
   "nbconvert_exporter": "python",
   "pygments_lexer": "ipython3",
   "version": "3.9.13"
  },
  "orig_nbformat": 4
 },
 "nbformat": 4,
 "nbformat_minor": 2
}
